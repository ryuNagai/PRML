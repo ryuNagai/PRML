{
 "cells": [
  {
   "cell_type": "markdown",
   "metadata": {},
   "source": [
    "# Kernel Trick"
   ]
  },
  {
   "cell_type": "code",
   "execution_count": 1,
   "metadata": {},
   "outputs": [],
   "source": [
    "import numpy as np\n",
    "from operator import itemgetter"
   ]
  },
  {
   "cell_type": "markdown",
   "metadata": {},
   "source": [
    "# Kernel"
   ]
  },
  {
   "cell_type": "code",
   "execution_count": 13,
   "metadata": {},
   "outputs": [],
   "source": [
    "class RBFKernel:\n",
    "    def __init__(self, X, sigma):\n",
    "        self.sigma2 = sigma**2\n",
    "        self.X = X\n",
    "        self.values_ = np.empty((X.shape[0], X.shape[0]))\n",
    "        \n",
    "    # distance between row i and row j\n",
    "    def value(self, i, j):\n",
    "        return np.exp( (-(( self.X[i,:] - self.X[j, :])**2 )).sum() \n",
    "                / (2*self.sigma2))\n",
    "    \n",
    "    def eval(self, Z, s):\n",
    "        return np.exp(-((self.X[s, np.newaxis, :] - Z[np.newaxis, :, :])**2).sum(axis=2)\n",
    "                / (2*self.sigma2))\n",
    "    "
   ]
  },
  {
   "cell_type": "code",
   "execution_count": 12,
   "metadata": {},
   "outputs": [
    {
     "name": "stdout",
     "output_type": "stream",
     "text": [
      "[[ 0  1  2  3  4]\n",
      " [ 5  6  7  8  9]\n",
      " [10 11 12 13 14]]\n",
      "[[[ 0  1  2  3  4]\n",
      "  [ 5  6  7  8  9]\n",
      "  [10 11 12 13 14]]]\n",
      "[[[ 0  1  2  3  4]]\n",
      "\n",
      " [[ 5  6  7  8  9]]\n",
      "\n",
      " [[10 11 12 13 14]]]\n",
      "[[[ 0]\n",
      "  [ 1]\n",
      "  [ 2]\n",
      "  [ 3]\n",
      "  [ 4]]\n",
      "\n",
      " [[ 5]\n",
      "  [ 6]\n",
      "  [ 7]\n",
      "  [ 8]\n",
      "  [ 9]]\n",
      "\n",
      " [[10]\n",
      "  [11]\n",
      "  [12]\n",
      "  [13]\n",
      "  [14]]]\n"
     ]
    }
   ],
   "source": [
    "x = np.arange(15).reshape(3,5)\n",
    "print(x)\n",
    "print(x[np.newaxis, :, :])\n",
    "print(x[:, np.newaxis, :])\n",
    "print(x[:, :, np.newaxis])"
   ]
  },
  {
   "cell_type": "markdown",
   "metadata": {},
   "source": [
    "# SVM"
   ]
  },
  {
   "cell_type": "code",
   "execution_count": 33,
   "metadata": {},
   "outputs": [],
   "source": [
    "class SVC:\n",
    "    def __init__(self,C=1.,sigma=1,max_iter=10000):\n",
    "        self.C = C\n",
    "        self.sigma = sigma\n",
    "        self.max_iter = max_iter\n",
    "    \n",
    "    def fit(self,X,Y,selections=None):\n",
    "        a = np.zeros(X.shape[0])\n",
    "        ay = 0\n",
    "        kernel = RBFKernel(X, self.sigma)\n",
    "        indices = np.arange(X.shape[0])\n",
    "        for _ in range(self.max_iter):\n",
    "            s = a != 0\n",
    "            ydf = y*(1 - y*np.dot(a[s]*y[s], kernel.eval(X,s)).T)\n",
    "            iydf = np.c_[indices, ydf]\n",
    "            i = int(min(iydf[((a > 0) & (y > 0)) | ((a < self.C) & (y < 0))], \n",
    "                       key=itemgetter(1))[0])\n",
    "            j = int(max(iydf[((a > 0) & (y < 0)) | ((a < self.C) & (y > 0))],\n",
    "                       key=itemgetter(1))[0])\n",
    "            if ydf[i] >= ydf[j]:\n",
    "                break\n",
    "\n",
    "            ay2 = ay - y[i]*a[i] - y[j]*a[j]\n",
    "            kii = kernel.value(i,i)\n",
    "            kij = kernel.value(i,j)\n",
    "            kjj = kernel.value(j,j)\n",
    "            s = a != 0\n",
    "            s[i] = False\n",
    "            s[j] = False\n",
    "            kxi = kernel.eval(X[i,:].reshape(1, -1), s).ravel()\n",
    "            kxj = kernel.eval(X[j,:].reshape(1, -1), s).ravel()\n",
    "            ai = ((1 - y[i]*y[j] + y[i]*( (kij - kjj)*ay2 - (a[s]*y[s]*(kxi-kxj)).sum()))\n",
    "                  / (kii + kjj - 2*kij))\n",
    "            if ai < 0:\n",
    "                ai = 0\n",
    "            elif ai > self.C:\n",
    "                ai = self.C\n",
    "                aj = (-ai*y[j] - ay2) * y[i]\n",
    "            ay += y[i] * (ai-a[i]) + y[j] * (aj - a[j])\n",
    "            if ai == a[i]:\n",
    "                break\n",
    "            a[i] = ai\n",
    "            a[j] = aj\n",
    "        self.a_ = a\n",
    "        self.y_ = y\n",
    "        self.kernel_ = kernel\n",
    "        s = a != 0.\n",
    "        self.w0_ = (y[s] - np.dot(a[s]*y[s], kernel.eval(X[s], s))).sum() / s.sum()\n",
    "        with open(\"svm.log\", \"w\") as fp:\n",
    "            print(a, file=fp)\n",
    "            \n",
    "    def predict(self, X):\n",
    "        s = self.a_ != 0.\n",
    "        return np.sign(self.w0_ + np.dot(self.a_[s] * self.y_[s], self.kernel_.eval(X, s)))"
   ]
  },
  {
   "cell_type": "markdown",
   "metadata": {},
   "source": [
    "# Test"
   ]
  },
  {
   "cell_type": "code",
   "execution_count": 34,
   "metadata": {},
   "outputs": [],
   "source": [
    "import matplotlib.pyplot as plt"
   ]
  },
  {
   "cell_type": "code",
   "execution_count": 52,
   "metadata": {},
   "outputs": [
    {
     "data": {
      "text/plain": [
       "<matplotlib.contour.QuadContourSet at 0x11473a908>"
      ]
     },
     "execution_count": 52,
     "metadata": {},
     "output_type": "execute_result"
    },
    {
     "data": {
      "image/png": "[encoded data removed]",
      "text/plain": [
       "<matplotlib.figure.Figure at 0x11d032dd8>"
      ]
     },
     "metadata": {},
     "output_type": "display_data"
    }
   ],
   "source": [
    "plt.axes().set_aspect(\"equal\")\n",
    "np.random.seed(0)\n",
    "X0 = np.random.randn(100,2)\n",
    "X1_1 = np.random.randn(50,2) + np.array([2.5,3])\n",
    "X1_2 = np.random.randn(50,2) - np.array([2.5,3])\n",
    "X1 = np.r_[X1_1, X1_2]\n",
    "#X1 = np.random.randn(100,2) + np.array([2.5,3])\n",
    "y = np.array([1] * 100 + [-1] * 100)\n",
    "X = np.r_[X0, X1]\n",
    "\n",
    "model = SVC(C=1)\n",
    "model.fit(X,y)\n",
    "model2 = SVC(C=.1)\n",
    "model2.fit(X,y)\n",
    "\n",
    "xmin, xmax = X[:,0].min(), X[:,0].max()\n",
    "ymin, ymax = X[:,1].min(), X[:,1].max()\n",
    "\n",
    "plt.scatter(X0[:,0], X0[:,1])\n",
    "plt.scatter(X1[:,0], X1[:,1])\n",
    "xmesh,ymesh = np.meshgrid(np.linspace(xmin,xmax,200),\n",
    "                          np.linspace(ymin,ymax,200))\n",
    "Z = model.predict(np.c_[xmesh.ravel(),ymesh.ravel()]).reshape(xmesh.shape)\n",
    "Z2 = model2.predict(np.c_[xmesh.ravel(),ymesh.ravel()]).reshape(xmesh.shape)\n",
    "plt.contour(xmesh,ymesh,Z,levels=[0],colors=\"K\")\n",
    "plt.contour(xmesh,ymesh,Z2,levels=[0],colors=\"R\")"
   ]
  },
  {
   "cell_type": "code",
   "execution_count": null,
   "metadata": {},
   "outputs": [],
   "source": []
  }
 ],
 "metadata": {
  "kernelspec": {
   "display_name": "Python 3",
   "language": "python",
   "name": "python3"
  },
  "language_info": {
   "codemirror_mode": {
    "name": "ipython",
    "version": 3
   },
   "file_extension": ".py",
   "mimetype": "text/x-python",
   "name": "python",
   "nbconvert_exporter": "python",
   "pygments_lexer": "ipython3",
   "version": "3.6.4"
  }
 },
 "nbformat": 4,
 "nbformat_minor": 2
}

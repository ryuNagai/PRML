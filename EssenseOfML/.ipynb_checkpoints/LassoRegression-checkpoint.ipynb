{
 "cells": [
  {
   "cell_type": "markdown",
   "metadata": {},
   "source": [
    "# Lasso Regression"
   ]
  },
  {
   "cell_type": "code",
   "execution_count": 1,
   "metadata": {},
   "outputs": [],
   "source": [
    "import numpy as np"
   ]
  },
  {
   "cell_type": "code",
   "execution_count": 2,
   "metadata": {},
   "outputs": [],
   "source": [
    "def soft_thresholding(x, y):\n",
    "    return np.sign(x) * max(abs(x) - y, 0)"
   ]
  },
  {
   "cell_type": "code",
   "execution_count": 81,
   "metadata": {},
   "outputs": [],
   "source": [
    "class Lasso:\n",
    "    def __init__(self, lambda_, tol=0.0001, max_iter=1000):\n",
    "        self.lambda_ = lambda_\n",
    "        self.tor = tol\n",
    "        self.max_iter = max_iter\n",
    "        self.w_ = None\n",
    "        \n",
    "    def fit(self, X, t):\n",
    "        n, d = X.shape\n",
    "        self.w_ = np.zeros(d + 1)\n",
    "        # instance can be updated by other func. in same class\n",
    "        avgl1 = 0.\n",
    "        for _ in range(self.max_iter):\n",
    "            avgl1_prev = avgl1\n",
    "            self._update(n, d, X, t)\n",
    "            # average penalty term\n",
    "            avgl1 = np.abs(self.w_).sum() / self.w_.shape[0]\n",
    "            if abs(avgl1 - avgl1_prev) <= self.tor: # little update\n",
    "                break\n",
    "            \n",
    "    def _update(self, n, d, X, t):\n",
    "        self.w_[0] = (t - np.dot(X, self.w_[1:])).sum() / n\n",
    "        w0vec = np.ones(n) * self.w_[0]\n",
    "        for k in range(d):\n",
    "            ww = self.w_[1:]\n",
    "            ww[k] = 0\n",
    "            q = np.dot(t - w0vec - np.dot(X, ww), X[:, k])\n",
    "            r = np.dot(X[:,k], X[:,k])\n",
    "            self.w_[k+1] = soft_thresholding(q / r, self.lambda_)\n",
    "            \n",
    "            # update self.w_[k+1], not self.w_[k] because \n",
    "            # ww[k] corresponds to self.w_[k+1]\n",
    "            \n",
    "    def predict(self, X):\n",
    "        if X.ndim == 1:\n",
    "            X = X.reshape(X.shape[0], 1)\n",
    "        Xtil = np.c_[np.ones(X.shape[0]), X]\n",
    "        return np.dot(Xtil, self.w_)"
   ]
  },
  {
   "cell_type": "markdown",
   "metadata": {},
   "source": [
    "# Try with win quality dataset"
   ]
  },
  {
   "cell_type": "code",
   "execution_count": 82,
   "metadata": {},
   "outputs": [],
   "source": [
    "import csv"
   ]
  },
  {
   "cell_type": "code",
   "execution_count": 83,
   "metadata": {},
   "outputs": [],
   "source": [
    "Xy = []\n",
    "with open(\"winequality-red.csv\") as fp:\n",
    "    for row in csv.reader(fp, delimiter=';'):\n",
    "        Xy.append(row)\n",
    "\n",
    "Xy = np.array(Xy[1:], dtype=np.float64)"
   ]
  },
  {
   "cell_type": "code",
   "execution_count": 84,
   "metadata": {},
   "outputs": [],
   "source": [
    "np.random.seed(0)\n",
    "np.random.shuffle(Xy)\n",
    "train_X = Xy[:1000, :-1]\n",
    "train_y = Xy[:1000, -1]\n",
    "test_x = Xy[1000:, :-1]\n",
    "test_y = Xy[1000:, -1]"
   ]
  },
  {
   "cell_type": "code",
   "execution_count": 87,
   "metadata": {},
   "outputs": [
    {
     "name": "stdout",
     "output_type": "stream",
     "text": [
      "---- lambda=1000.0 ----\n",
      "coefficiences:\n",
      "[ 5.625  0.    -0.     0.     0.    -0.    -0.    -0.    -0.    -0.\n",
      "  0.     0.   ]\n",
      "---- lambda=0.1 ----\n",
      "coefficiences:\n",
      "[ 5.85311858  0.         -0.33413758  0.48312491  0.         -2.12358859\n",
      " -0.         -0.          0.          0.          0.          0.        ]\n",
      "---- lambda=0.01 ----\n",
      "coefficiences:\n",
      "[ 5.77950329  0.         -1.22397907  0.06411323  0.         -3.39086156\n",
      " -0.         -0.          0.          0.          1.14739626  0.        ]\n"
     ]
    }
   ],
   "source": [
    "for lambda_ in [1000., 0.1, 0.01]:\n",
    "    model = Lasso(lambda_)\n",
    "    model.fit(train_X, train_y)\n",
    "    y = model.predict(test_x)\n",
    "    print(\"---- lambda={} ----\".format(lambda_))\n",
    "    print(\"coefficiences:\")\n",
    "    print(model.w_)"
   ]
  },
  {
   "cell_type": "code",
   "execution_count": null,
   "metadata": {},
   "outputs": [],
   "source": []
  }
 ],
 "metadata": {
  "kernelspec": {
   "display_name": "Python 3",
   "language": "python",
   "name": "python3"
  },
  "language_info": {
   "codemirror_mode": {
    "name": "ipython",
    "version": 3
   },
   "file_extension": ".py",
   "mimetype": "text/x-python",
   "name": "python",
   "nbconvert_exporter": "python",
   "pygments_lexer": "ipython3",
   "version": "3.6.4"
  }
 },
 "nbformat": 4,
 "nbformat_minor": 2
}

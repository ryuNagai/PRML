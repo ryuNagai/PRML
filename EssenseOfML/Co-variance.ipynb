{
 "cells": [
  {
   "cell_type": "code",
   "execution_count": 6,
   "metadata": {},
   "outputs": [],
   "source": [
    "import numpy as np"
   ]
  },
  {
   "cell_type": "code",
   "execution_count": 7,
   "metadata": {},
   "outputs": [],
   "source": [
    "x = np.array([21.9,24.5,23.4,26.2,15.3,22.4,21.8,16.8,\n",
    "          19.9,19.1,21.9,25.9,20.9,18.8,22.1,20,15,16,22.2,26.4,26,\n",
    "          28.3,18.7,21.3,22.5,25,22,26.1,25.6,25.7])"
   ]
  },
  {
   "cell_type": "code",
   "execution_count": 8,
   "metadata": {},
   "outputs": [],
   "source": [
    "y = np.array([8.3,13,8.4,7.9,7,3.7,6.1,8.5,8.6,11.9,12.1,14.4,7,10.5,6.6,\n",
    "          10.6,16.6,19.1,20.1,19.8,24.5,12.6,16.4,13,13.3,14.1,\n",
    "          14.4,17,21.3,\n",
    "          24.5])"
   ]
  },
  {
   "cell_type": "code",
   "execution_count": 11,
   "metadata": {},
   "outputs": [],
   "source": [
    "mx = x.mean()\n",
    "my = y.mean()\n",
    "sx = x.std()\n",
    "sy = y.std()"
   ]
  },
  {
   "cell_type": "code",
   "execution_count": 12,
   "metadata": {},
   "outputs": [],
   "source": [
    "sxy = ((x - mx) * (y - my)).sum() / len(x)"
   ]
  },
  {
   "cell_type": "code",
   "execution_count": 14,
   "metadata": {},
   "outputs": [
    {
     "name": "stdout",
     "output_type": "stream",
     "text": [
      "std of x = 3.490815\n",
      "std of y = 5.425414\n",
      "covariance = 5.487211\n",
      "relation coefficience = 0.289729\n"
     ]
    }
   ],
   "source": [
    "print(\"std of x = {:4f}\".format(sx))\n",
    "print(\"std of y = {:4f}\".format(sy))\n",
    "print(\"covariance = {:4f}\".format(sxy))\n",
    "print(\"relation coefficience = {:4f}\".format(sxy / sx / sy))"
   ]
  },
  {
   "cell_type": "code",
   "execution_count": null,
   "metadata": {},
   "outputs": [],
   "source": []
  }
 ],
 "metadata": {
  "kernelspec": {
   "display_name": "Python 3",
   "language": "python",
   "name": "python3"
  },
  "language_info": {
   "codemirror_mode": {
    "name": "ipython",
    "version": 3
   },
   "file_extension": ".py",
   "mimetype": "text/x-python",
   "name": "python",
   "nbconvert_exporter": "python",
   "pygments_lexer": "ipython3",
   "version": "3.6.4"
  }
 },
 "nbformat": 4,
 "nbformat_minor": 2
}

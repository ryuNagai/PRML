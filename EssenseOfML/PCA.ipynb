{
 "cells": [
  {
   "cell_type": "markdown",
   "metadata": {},
   "source": [
    "# PCA"
   ]
  },
  {
   "cell_type": "code",
   "execution_count": 2,
   "metadata": {},
   "outputs": [],
   "source": [
    "import numpy as np\n",
    "from scipy.sparse.linalg import svds"
   ]
  },
  {
   "cell_type": "code",
   "execution_count": 12,
   "metadata": {},
   "outputs": [],
   "source": [
    "class PCA:\n",
    "    def __init__(self, n_components, tol=0.0, random_seed=0):\n",
    "        self.n_components = n_components\n",
    "        self.tol = tol\n",
    "        self.random_state_ = np.random.RandomState(random_seed)\n",
    "        \n",
    "    def fit(self, X):\n",
    "        v0 = self.random_state_.randn(min(X.shape))\n",
    "        xbar = X.mean(axis=0) # mean of data\n",
    "        Y = X - xbar\n",
    "        S = np.dot(Y.T, Y) #covariance matrix\n",
    "        U, Sigma, VT = svds(S,k=self.n_components,tol=self.tol,v0=v0)\n",
    "        \n",
    "        self.VT_ = VT[::-1,:] # invert order of column\n",
    "        \n",
    "    def transform(self, X):\n",
    "        return self.VT_.dot(X.T).T\n",
    "    "
   ]
  },
  {
   "cell_type": "code",
   "execution_count": 11,
   "metadata": {},
   "outputs": [
    {
     "name": "stdout",
     "output_type": "stream",
     "text": [
      "[[1 2 3]\n",
      " [3 4 5]]\n"
     ]
    },
    {
     "data": {
      "text/plain": [
       "array([[3, 4, 5],\n",
       "       [1, 2, 3]])"
      ]
     },
     "execution_count": 11,
     "metadata": {},
     "output_type": "execute_result"
    }
   ],
   "source": [
    "A = np.array([[1,2,3],[3,4,5]])\n",
    "print(A)\n",
    "A[::-1,:]"
   ]
  },
  {
   "cell_type": "code",
   "execution_count": 14,
   "metadata": {},
   "outputs": [],
   "source": [
    "import matplotlib.pyplot as plt\n",
    "%matplotlib inline\n",
    "import csv"
   ]
  },
  {
   "cell_type": "code",
   "execution_count": 18,
   "metadata": {},
   "outputs": [
    {
     "data": {
      "text/plain": [
       "<matplotlib.collections.PathCollection at 0x109628f98>"
      ]
     },
     "execution_count": 18,
     "metadata": {},
     "output_type": "execute_result"
    },
    {
     "data": {
      "image/png": "[encoded data removed]",
      "text/plain": [
       "<matplotlib.figure.Figure at 0x108a35128>"
      ]
     },
     "metadata": {},
     "output_type": "display_data"
    }
   ],
   "source": [
    "Xy = []\n",
    "with open(\"winequality-red.csv\") as fp:\n",
    "    for row in csv.reader(fp, delimiter=\";\"):\n",
    "        Xy.append(row)\n",
    "Xy = np.array(Xy[1:], dtype=np.float64)\n",
    "X = Xy[:, :-1]\n",
    "\n",
    "model = PCA(n_components=2)\n",
    "model.fit(X)\n",
    "\n",
    "Y = model.transform(X)\n",
    "\n",
    "plt.scatter(Y[:, 0], Y[:, 1], color=\"k\")"
   ]
  },
  {
   "cell_type": "code",
   "execution_count": null,
   "metadata": {},
   "outputs": [],
   "source": []
  }
 ],
 "metadata": {
  "kernelspec": {
   "display_name": "Python 3",
   "language": "python",
   "name": "python3"
  },
  "language_info": {
   "codemirror_mode": {
    "name": "ipython",
    "version": 3
   },
   "file_extension": ".py",
   "mimetype": "text/x-python",
   "name": "python",
   "nbconvert_exporter": "python",
   "pygments_lexer": "ipython3",
   "version": "3.6.4"
  }
 },
 "nbformat": 4,
 "nbformat_minor": 2
}

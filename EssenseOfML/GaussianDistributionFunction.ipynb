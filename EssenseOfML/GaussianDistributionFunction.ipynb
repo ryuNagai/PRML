{
 "cells": [
  {
   "cell_type": "markdown",
   "metadata": {},
   "source": [
    "# Gaussian Distribution Function\n",
    "$$\n",
    "f(x) = \\frac{1}{\\sqrt{2\\pi}\\sigma}\\exp{\\{\\frac{(x-\\mu)^{2}}{2\\sigma}}\\}\\\\\n",
    "N(\\mu, \\sigma) = \\int^{\\infty}_{\\infty} f(x) dx\n",
    "$$"
   ]
  },
  {
   "cell_type": "code",
   "execution_count": 3,
   "metadata": {},
   "outputs": [],
   "source": [
    "import numpy as np\n",
    "import matplotlib.pyplot as plt\n",
    "from scipy.stats import norm"
   ]
  },
  {
   "cell_type": "code",
   "execution_count": 11,
   "metadata": {},
   "outputs": [
    {
     "data": {
      "text/plain": [
       "[<matplotlib.lines.Line2D at 0x1a162cb2b0>]"
      ]
     },
     "execution_count": 11,
     "metadata": {},
     "output_type": "execute_result"
    },
    {
     "data": {
      "image/png": "[encoded data removed]",
      "text/plain": [
       "<matplotlib.figure.Figure at 0x1a1617c7b8>"
      ]
     },
     "metadata": {},
     "output_type": "display_data"
    }
   ],
   "source": [
    "x = np.linspace(-5, 5)\n",
    "mu = 0\n",
    "std = 1\n",
    "y = norm.pdf(x, loc=mu, scale=std) # probability dencity function\n",
    "plt.plot(x, y, color=\"r\")"
   ]
  },
  {
   "cell_type": "markdown",
   "metadata": {},
   "source": [
    "# Cumulative Distribution Function"
   ]
  },
  {
   "cell_type": "code",
   "execution_count": 14,
   "metadata": {},
   "outputs": [
    {
     "name": "stdout",
     "output_type": "stream",
     "text": [
      "0.6826894921370859\n",
      "The output is appear between -1 to 1 for about 70% of probability\n"
     ]
    }
   ],
   "source": [
    "x = norm.cdf(1) - norm.cdf(-1)\n",
    "print(x)\n",
    "print(\"The output is appear between -1 to 1 for about 70% of probability\")"
   ]
  },
  {
   "cell_type": "markdown",
   "metadata": {},
   "source": [
    "# Cointoss Experiment"
   ]
  },
  {
   "cell_type": "code",
   "execution_count": 17,
   "metadata": {},
   "outputs": [],
   "source": [
    "# n:number of coin (How many upside?)\n",
    "# m:number of cointoss\n",
    "def cointoss(n, m):\n",
    "    l = []\n",
    "    for _ in range(m):\n",
    "        r = np.random.randint(2, size=n) # 0 or 1, n size array\n",
    "        l.append(r.sum())\n",
    "    return l"
   ]
  },
  {
   "cell_type": "code",
   "execution_count": 24,
   "metadata": {},
   "outputs": [
    {
     "data": {
      "text/plain": [
       "(array([3.4000e+01, 5.2000e+01, 1.0700e+02, 1.7700e+02, 2.9000e+02,\n",
       "        4.9300e+02, 7.6000e+02, 1.2870e+03, 1.8980e+03, 2.9020e+03,\n",
       "        4.2150e+03, 6.0720e+03, 8.4350e+03, 1.1670e+04, 1.5518e+04,\n",
       "        1.9788e+04, 2.5195e+04, 3.0547e+04, 3.6992e+04, 4.2728e+04,\n",
       "        4.8731e+04, 5.4641e+04, 5.8353e+04, 6.1741e+04, 6.3367e+04,\n",
       "        6.3364e+04, 6.1861e+04, 5.9176e+04, 5.4906e+04, 4.9458e+04,\n",
       "        4.3690e+04, 3.7589e+04, 3.1544e+04, 2.5764e+04, 2.0429e+04,\n",
       "        1.5974e+04, 1.2129e+04, 8.8220e+03, 6.3930e+03, 4.4460e+03,\n",
       "        3.0090e+03, 2.0690e+03, 1.3350e+03, 8.1600e+02, 5.0700e+02,\n",
       "        2.8700e+02, 1.8500e+02, 9.9000e+01, 6.1000e+01, 3.3000e+01]),\n",
       " array([4800., 4808., 4816., 4824., 4832., 4840., 4848., 4856., 4864.,\n",
       "        4872., 4880., 4888., 4896., 4904., 4912., 4920., 4928., 4936.,\n",
       "        4944., 4952., 4960., 4968., 4976., 4984., 4992., 5000., 5008.,\n",
       "        5016., 5024., 5032., 5040., 5048., 5056., 5064., 5072., 5080.,\n",
       "        5088., 5096., 5104., 5112., 5120., 5128., 5136., 5144., 5152.,\n",
       "        5160., 5168., 5176., 5184., 5192., 5200.]),\n",
       " <a list of 50 Patch objects>)"
      ]
     },
     "execution_count": 24,
     "metadata": {},
     "output_type": "execute_result"
    },
    {
     "data": {
      "image/png": "[encoded data removed]",
      "text/plain": [
       "<matplotlib.figure.Figure at 0x1a1a334fd0>"
      ]
     },
     "metadata": {},
     "output_type": "display_data"
    }
   ],
   "source": [
    "np.random.seed(10)\n",
    "\n",
    "fig, axes = plt.subplots(1,2)\n",
    "\n",
    "l = cointoss(100, 1000000)\n",
    "axes[0].hist(l, range=(30, 70), bins=50, color=\"k\")\n",
    "l = cointoss(10000, 1000000)\n",
    "axes[1].hist(l, range=(4800, 5200), bins=50, color=\"k\")"
   ]
  },
  {
   "cell_type": "code",
   "execution_count": null,
   "metadata": {},
   "outputs": [],
   "source": []
  }
 ],
 "metadata": {
  "kernelspec": {
   "display_name": "Python 3",
   "language": "python",
   "name": "python3"
  },
  "language_info": {
   "codemirror_mode": {
    "name": "ipython",
    "version": 3
   },
   "file_extension": ".py",
   "mimetype": "text/x-python",
   "name": "python",
   "nbconvert_exporter": "python",
   "pygments_lexer": "ipython3",
   "version": "3.6.4"
  }
 },
 "nbformat": 4,
 "nbformat_minor": 2
}

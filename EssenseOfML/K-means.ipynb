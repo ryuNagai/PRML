{
 "cells": [
  {
   "cell_type": "markdown",
   "metadata": {},
   "source": [
    "# K-means"
   ]
  },
  {
   "cell_type": "code",
   "execution_count": 2,
   "metadata": {},
   "outputs": [],
   "source": [
    "import numpy as np\n",
    "import itertools"
   ]
  },
  {
   "cell_type": "code",
   "execution_count": 5,
   "metadata": {},
   "outputs": [],
   "source": [
    "class KMeans:\n",
    "    def __init__(self,n_clusters,max_iter=1000,random_seed=0):\n",
    "        self.n_clusters = n_clusters\n",
    "        self.max_iter = max_iter\n",
    "        self.random_state = np.random.RandomState(random_seed)\n",
    "        \n",
    "    def fit(self,X):\n",
    "        cycle = itertools.cycle(range(self.n_clusters))\n",
    "        self.labels_ = np.fromiter(\n",
    "            itertools.islice(cycle,X.shape[0]),dtype=np.int)\n",
    "        self.random_state.shuffle(self.labels_)\n",
    "        labels_prev = np.zeros\n",
    "        count = 0\n",
    "        self.cluster_centers_ = np.zeros(\n",
    "            (self.n_clusters, X.shape[1]))\n",
    "        while (not (self.labels_ == labels_prev).all() \n",
    "              and count < self.max_iter):\n",
    "            for i in range(self.n_clusters):\n",
    "                XX = X[self.labels_ == i, :]\n",
    "                self.cluster_centers_[i,:] = XX.mean(axis=0)\n",
    "            dist = ((X[:,:,np.newaxis]-\n",
    "                     self.cluster_centers_.T[np.newaxis,:,:])**2).sum(axis=1)\n",
    "            labels_prev = self.labels_\n",
    "            self.labels_ = dist.argmin(axis=1)\n",
    "            count += 1\n",
    "    \n",
    "    def predict(self,X):\n",
    "        dist = ((X[:,:,np.newaxis]-self.cluster_clusters_.T[np.newaxis,:,:])**2).sum(axis=1)\n",
    "        labels = dist.argmin(axis=1)\n",
    "        return labels"
   ]
  },
  {
   "cell_type": "markdown",
   "metadata": {},
   "source": [
    "# About random labling"
   ]
  },
  {
   "cell_type": "code",
   "execution_count": 11,
   "metadata": {},
   "outputs": [
    {
     "name": "stdout",
     "output_type": "stream",
     "text": [
      "[0 1 2 0 1 2 0 1 2 0] cyclic\n",
      "[2 1 2 0 1 2 0 1 0 0] shuffled\n"
     ]
    }
   ],
   "source": [
    "num_label = 3\n",
    "cycle = itertools.cycle(range(num_label))\n",
    "labels_ = np.fromiter(itertools.islice(cycle,10),dtype=np.int)\n",
    "print(labels_, \"cyclic\")\n",
    "np.random.RandomState(42).shuffle(labels_)\n",
    "print(labels_, \"shuffled\")"
   ]
  },
  {
   "cell_type": "markdown",
   "metadata": {},
   "source": [
    "# Test"
   ]
  },
  {
   "cell_type": "code",
   "execution_count": 12,
   "metadata": {},
   "outputs": [],
   "source": [
    "import matplotlib.pyplot as plt"
   ]
  },
  {
   "cell_type": "code",
   "execution_count": 19,
   "metadata": {},
   "outputs": [
    {
     "data": {
      "image/png": "[encoded data removed]",
      "text/plain": [
       "<matplotlib.figure.Figure at 0x114f33710>"
      ]
     },
     "metadata": {},
     "output_type": "display_data"
    }
   ],
   "source": [
    "np.random.seed(0)\n",
    "points1 = np.random.randn(50,2)\n",
    "points2 = np.random.randn(50,2) + np.array([5,0])\n",
    "points3 = np.random.randn(50,2) + np.array([5,5])\n",
    "\n",
    "points = np.r_[points1,points2,points3]\n",
    "np.random.shuffle(points)\n",
    "\n",
    "model = KMeans(3)\n",
    "model.fit(points)\n",
    "\n",
    "markers = [\"+\",\"*\",\"o\"]\n",
    "for i in range(3):\n",
    "    p = points[model.labels_ == i,:]\n",
    "    plt.scatter(p[:,0],p[:,1],color=\"k\",marker=markers[i])"
   ]
  },
  {
   "cell_type": "code",
   "execution_count": null,
   "metadata": {},
   "outputs": [],
   "source": []
  }
 ],
 "metadata": {
  "kernelspec": {
   "display_name": "Python 3",
   "language": "python",
   "name": "python3"
  },
  "language_info": {
   "codemirror_mode": {
    "name": "ipython",
    "version": 3
   },
   "file_extension": ".py",
   "mimetype": "text/x-python",
   "name": "python",
   "nbconvert_exporter": "python",
   "pygments_lexer": "ipython3",
   "version": "3.6.4"
  }
 },
 "nbformat": 4,
 "nbformat_minor": 2
}
